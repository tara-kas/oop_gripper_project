{
 "cells": [
  {
   "cell_type": "code",
   "execution_count": 1,
   "id": "51618a40",
   "metadata": {},
   "outputs": [
    {
     "name": "stderr",
     "output_type": "stream",
     "text": [
      "pybullet build time: May 17 2025 21:11:45\n"
     ]
    }
   ],
   "source": [
    "import pybullet as p\n",
    "import pybullet_data\n",
    "import time\n",
    "import random"
   ]
  },
  {
   "cell_type": "code",
   "execution_count": 2,
   "id": "4bcae812",
   "metadata": {},
   "outputs": [
    {
     "name": "stdout",
     "output_type": "stream",
     "text": [
      "Version = 4.1 Metal - 89.4\n",
      "Vendor = Apple\n",
      "Renderer = Apple M1\n",
      "b3Printf: Selected demo: Physics Server\n",
      "startThreads creating 1 threads.\n",
      "starting thread 0\n",
      "started thread 0 \n",
      "MotionThreadFunc thread started\n"
     ]
    },
    {
     "ename": "KeyboardInterrupt",
     "evalue": "",
     "output_type": "error",
     "traceback": [
      "\u001b[0;31m---------------------------------------------------------------------------\u001b[0m",
      "\u001b[0;31mKeyboardInterrupt\u001b[0m                         Traceback (most recent call last)",
      "Cell \u001b[0;32mIn[2], line 27\u001b[0m\n\u001b[1;32m     25\u001b[0m \u001b[38;5;66;03m# run sim loop\u001b[39;00m\n\u001b[1;32m     26\u001b[0m \u001b[38;5;28;01mfor\u001b[39;00m i \u001b[38;5;129;01min\u001b[39;00m \u001b[38;5;28mrange\u001b[39m(\u001b[38;5;241m1000\u001b[39m):\n\u001b[0;32m---> 27\u001b[0m     \u001b[43mp\u001b[49m\u001b[38;5;241;43m.\u001b[39;49m\u001b[43mstepSimulation\u001b[49m\u001b[43m(\u001b[49m\u001b[43m)\u001b[49m\n\u001b[1;32m     28\u001b[0m     time\u001b[38;5;241m.\u001b[39msleep(\u001b[38;5;241m1.\u001b[39m\u001b[38;5;241m/\u001b[39m\u001b[38;5;241m240.\u001b[39m)\n\u001b[1;32m     30\u001b[0m \u001b[38;5;66;03m# disconnect when done\u001b[39;00m\n",
      "\u001b[0;31mKeyboardInterrupt\u001b[0m: "
     ]
    }
   ],
   "source": [
    "p.connect(p.GUI)    # if no graphics, replace GUI with DIRECT\n",
    "\n",
    "p.setAdditionalSearchPath(pybullet_data.getDataPath())\n",
    "\n",
    "planeID = p.loadURDF(\"plane.urdf\")\n",
    "# robotID = p.loadURDF(\"kuka_iiwa/model.urdf\", useFixedBase=True)\n",
    "\n",
    "# set gravity\n",
    "p.setGravity(0,0,-9.81)\n",
    "\n",
    "# set camera\n",
    "p.resetDebugVisualizerCamera(\n",
    "    cameraDistance = 1.5,\n",
    "    cameraYaw = 50,\n",
    "    cameraPitch = -35,\n",
    "    cameraTargetPosition = [0,0,0]\n",
    ")\n",
    "\n",
    "# load gripper\n",
    "pr2_gripper = p.loadURDF(\"pr2_gripper.urdf\", 0.5, 0.3, 0.7, 0,0,0,1)\n",
    "# initialise open grip\n",
    "joint_pos = [0.550569, 0.0, 0.549657, 0.0]\n",
    "\n",
    "\n",
    "# run sim loop\n",
    "for i in range(1000):\n",
    "    p.stepSimulation()\n",
    "    time.sleep(1./240.)\n",
    "    \n",
    "# disconnect when done\n",
    "p.disconnect()"
   ]
  },
  {
   "cell_type": "code",
   "execution_count": null,
   "id": "e95b2299",
   "metadata": {},
   "outputs": [
    {
     "name": "stdout",
     "output_type": "stream",
     "text": [
      "numActiveThreads = 0\n",
      "stopping threads\n",
      "Thread with taskId 0 exiting\n",
      "Thread TERMINATED\n",
      "destroy semaphore\n",
      "semaphore destroyed\n",
      "destroy main semaphore\n",
      "main semaphore destroyed\n"
     ]
    },
    {
     "ename": "",
     "evalue": "",
     "output_type": "error",
     "traceback": [
      "\u001b[1;31mThe Kernel crashed while executing code in the current cell or a previous cell. \n",
      "\u001b[1;31mPlease review the code in the cell(s) to identify a possible cause of the failure. \n",
      "\u001b[1;31mClick <a href='https://aka.ms/vscodeJupyterKernelCrash'>here</a> for more info. \n",
      "\u001b[1;31mView Jupyter <a href='command:jupyter.viewOutput'>log</a> for further details."
     ]
    }
   ],
   "source": [
    "p.disconnect()"
   ]
  }
 ],
 "metadata": {
  "kernelspec": {
   "display_name": "oop-labs",
   "language": "python",
   "name": "python3"
  },
  "language_info": {
   "codemirror_mode": {
    "name": "ipython",
    "version": 3
   },
   "file_extension": ".py",
   "mimetype": "text/x-python",
   "name": "python",
   "nbconvert_exporter": "python",
   "pygments_lexer": "ipython3",
   "version": "3.9.20"
  }
 },
 "nbformat": 4,
 "nbformat_minor": 5
}
